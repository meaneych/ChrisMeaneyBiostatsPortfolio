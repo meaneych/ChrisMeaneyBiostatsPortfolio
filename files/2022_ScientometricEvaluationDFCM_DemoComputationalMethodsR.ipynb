{
 "cells": [
  {
   "cell_type": "code",
   "execution_count": 1,
   "id": "805bf120",
   "metadata": {},
   "outputs": [],
   "source": [
    "####################################################\n",
    "## Demo of How to Extract Data from Scientometric APIs or Sources\n",
    "##\n",
    "## 1) rScopus (Publication-level and Author-level Data)\n",
    "## 2) rAltmetric (Publication-level Data)\n",
    "## 3) SciImago (Journal-level Data)\n",
    "##\n",
    "## Author: Christopher Meaney\n",
    "## Date: March 2022\n",
    "####################################################"
   ]
  },
  {
   "cell_type": "code",
   "execution_count": 2,
   "id": "8266b25d",
   "metadata": {},
   "outputs": [],
   "source": [
    "## Options for how many rows/cols displayed when printing matrices/dataframes/etc. in Jupyter\n",
    "options(repr.matrix.max.rows=100) \n",
    "options(repr.matrix.max.cols=50) "
   ]
  },
  {
   "cell_type": "code",
   "execution_count": 3,
   "id": "f11ca444",
   "metadata": {},
   "outputs": [
    {
     "name": "stderr",
     "output_type": "stream",
     "text": [
      "Warning message:\n",
      "\"package 'rscopus' was built under R version 4.0.5\"\n"
     ]
    }
   ],
   "source": [
    "## Package dependencies\n",
    "library(rscopus)\n",
    "library(rAltmetric)"
   ]
  },
  {
   "cell_type": "code",
   "execution_count": null,
   "id": "7f3ea40f",
   "metadata": {},
   "outputs": [],
   "source": []
  },
  {
   "cell_type": "code",
   "execution_count": null,
   "id": "eab20d8e",
   "metadata": {},
   "outputs": [],
   "source": []
  },
  {
   "cell_type": "code",
   "execution_count": 4,
   "id": "e1248719",
   "metadata": {},
   "outputs": [],
   "source": [
    "#######################################################\n",
    "## Quick Look at rscopus API\n",
    "########################################################"
   ]
  },
  {
   "cell_type": "code",
   "execution_count": 5,
   "id": "5787f55f",
   "metadata": {},
   "outputs": [
    {
     "data": {
      "text/plain": [
       "NULL"
      ]
     },
     "metadata": {},
     "output_type": "display_data"
    }
   ],
   "source": [
    "##\n",
    "## Set API key --- https://dev.elsevier.com/\n",
    "##\n",
    "api_key <- set_api_key(\"enter_your_api_key\")\n",
    "api_key"
   ]
  },
  {
   "cell_type": "code",
   "execution_count": 6,
   "id": "b8ced285",
   "metadata": {},
   "outputs": [],
   "source": [
    "##\n",
    "## Test queries\n",
    "## \n",
    "## Note: you can obtain Scopus identifiers using: https://www.scopus.com/freelookup/form/author.uri\n",
    "##\n",
    "\n",
    "## Christopher Meaney scopusID\n",
    "cm_id <- \"35765360800\"\n",
    "## Rahim Moineddin scopusID\n",
    "rm_id <- \"6603577135\"\n",
    "## Eva Grunfeld scopusID\n",
    "eg_id <- \"7004206728\"\n",
    "## Peter Selby scopusID\n",
    "ps_id <- \"35465440100\""
   ]
  },
  {
   "cell_type": "code",
   "execution_count": 7,
   "id": "0bc2135c",
   "metadata": {},
   "outputs": [],
   "source": [
    "## Grab the papers associated with particular scopusID\n",
    "papers <- author_df(au_id=ps_id, api_key=api_key, verbose=FALSE)\n",
    "# str(papers)"
   ]
  },
  {
   "cell_type": "code",
   "execution_count": 8,
   "id": "78d2cd13",
   "metadata": {},
   "outputs": [
    {
     "data": {
      "text/html": [
       "<style>\n",
       ".list-inline {list-style: none; margin:0; padding: 0}\n",
       ".list-inline>li {display: inline-block}\n",
       ".list-inline>li:not(:last-child)::after {content: \"\\00b7\"; padding: 0 .5ex}\n",
       "</style>\n",
       "<ol class=list-inline><li>172</li><li>37</li></ol>\n"
      ],
      "text/latex": [
       "\\begin{enumerate*}\n",
       "\\item 172\n",
       "\\item 37\n",
       "\\end{enumerate*}\n"
      ],
      "text/markdown": [
       "1. 172\n",
       "2. 37\n",
       "\n",
       "\n"
      ],
      "text/plain": [
       "[1] 172  37"
      ]
     },
     "metadata": {},
     "output_type": "display_data"
    }
   ],
   "source": [
    "dim(papers)"
   ]
  },
  {
   "cell_type": "code",
   "execution_count": 9,
   "id": "28d63628",
   "metadata": {},
   "outputs": [
    {
     "data": {
      "text/html": [
       "<table class=\"dataframe\">\n",
       "<caption>A data.frame: 37 × 1</caption>\n",
       "<thead>\n",
       "\t<tr><th scope=col>scopus_vars</th></tr>\n",
       "\t<tr><th scope=col>&lt;chr&gt;</th></tr>\n",
       "</thead>\n",
       "<tbody>\n",
       "\t<tr><td>@_fa                   </td></tr>\n",
       "\t<tr><td>prism:url              </td></tr>\n",
       "\t<tr><td>dc:identifier          </td></tr>\n",
       "\t<tr><td>eid                    </td></tr>\n",
       "\t<tr><td>dc:title               </td></tr>\n",
       "\t<tr><td>dc:creator             </td></tr>\n",
       "\t<tr><td>prism:publicationName  </td></tr>\n",
       "\t<tr><td>prism:issn             </td></tr>\n",
       "\t<tr><td>prism:eIssn            </td></tr>\n",
       "\t<tr><td>prism:volume           </td></tr>\n",
       "\t<tr><td>prism:coverDate        </td></tr>\n",
       "\t<tr><td>prism:coverDisplayDate </td></tr>\n",
       "\t<tr><td>prism:doi              </td></tr>\n",
       "\t<tr><td>pii                    </td></tr>\n",
       "\t<tr><td>dc:description         </td></tr>\n",
       "\t<tr><td>citedby-count          </td></tr>\n",
       "\t<tr><td>pubmed-id              </td></tr>\n",
       "\t<tr><td>prism:aggregationType  </td></tr>\n",
       "\t<tr><td>subtype                </td></tr>\n",
       "\t<tr><td>subtypeDescription     </td></tr>\n",
       "\t<tr><td>author-count.@limit    </td></tr>\n",
       "\t<tr><td>author-count.@total    </td></tr>\n",
       "\t<tr><td>author-count.$         </td></tr>\n",
       "\t<tr><td>authkeywords           </td></tr>\n",
       "\t<tr><td>article-number         </td></tr>\n",
       "\t<tr><td>source-id              </td></tr>\n",
       "\t<tr><td>fund-acr               </td></tr>\n",
       "\t<tr><td>fund-no                </td></tr>\n",
       "\t<tr><td>fund-sponsor           </td></tr>\n",
       "\t<tr><td>openaccess             </td></tr>\n",
       "\t<tr><td>openaccessFlag         </td></tr>\n",
       "\t<tr><td>entry_number           </td></tr>\n",
       "\t<tr><td>prism:issueIdentifier  </td></tr>\n",
       "\t<tr><td>prism:pageRange        </td></tr>\n",
       "\t<tr><td>freetoread.value.$     </td></tr>\n",
       "\t<tr><td>freetoreadLabel.value.$</td></tr>\n",
       "\t<tr><td>au_id                  </td></tr>\n",
       "</tbody>\n",
       "</table>\n"
      ],
      "text/latex": [
       "A data.frame: 37 × 1\n",
       "\\begin{tabular}{l}\n",
       " scopus\\_vars\\\\\n",
       " <chr>\\\\\n",
       "\\hline\n",
       "\t @\\_fa                   \\\\\n",
       "\t prism:url              \\\\\n",
       "\t dc:identifier          \\\\\n",
       "\t eid                    \\\\\n",
       "\t dc:title               \\\\\n",
       "\t dc:creator             \\\\\n",
       "\t prism:publicationName  \\\\\n",
       "\t prism:issn             \\\\\n",
       "\t prism:eIssn            \\\\\n",
       "\t prism:volume           \\\\\n",
       "\t prism:coverDate        \\\\\n",
       "\t prism:coverDisplayDate \\\\\n",
       "\t prism:doi              \\\\\n",
       "\t pii                    \\\\\n",
       "\t dc:description         \\\\\n",
       "\t citedby-count          \\\\\n",
       "\t pubmed-id              \\\\\n",
       "\t prism:aggregationType  \\\\\n",
       "\t subtype                \\\\\n",
       "\t subtypeDescription     \\\\\n",
       "\t author-count.@limit    \\\\\n",
       "\t author-count.@total    \\\\\n",
       "\t author-count.\\$         \\\\\n",
       "\t authkeywords           \\\\\n",
       "\t article-number         \\\\\n",
       "\t source-id              \\\\\n",
       "\t fund-acr               \\\\\n",
       "\t fund-no                \\\\\n",
       "\t fund-sponsor           \\\\\n",
       "\t openaccess             \\\\\n",
       "\t openaccessFlag         \\\\\n",
       "\t entry\\_number           \\\\\n",
       "\t prism:issueIdentifier  \\\\\n",
       "\t prism:pageRange        \\\\\n",
       "\t freetoread.value.\\$     \\\\\n",
       "\t freetoreadLabel.value.\\$\\\\\n",
       "\t au\\_id                  \\\\\n",
       "\\end{tabular}\n"
      ],
      "text/markdown": [
       "\n",
       "A data.frame: 37 × 1\n",
       "\n",
       "| scopus_vars &lt;chr&gt; |\n",
       "|---|\n",
       "| @_fa                    |\n",
       "| prism:url               |\n",
       "| dc:identifier           |\n",
       "| eid                     |\n",
       "| dc:title                |\n",
       "| dc:creator              |\n",
       "| prism:publicationName   |\n",
       "| prism:issn              |\n",
       "| prism:eIssn             |\n",
       "| prism:volume            |\n",
       "| prism:coverDate         |\n",
       "| prism:coverDisplayDate  |\n",
       "| prism:doi               |\n",
       "| pii                     |\n",
       "| dc:description          |\n",
       "| citedby-count           |\n",
       "| pubmed-id               |\n",
       "| prism:aggregationType   |\n",
       "| subtype                 |\n",
       "| subtypeDescription      |\n",
       "| author-count.@limit     |\n",
       "| author-count.@total     |\n",
       "| author-count.$          |\n",
       "| authkeywords            |\n",
       "| article-number          |\n",
       "| source-id               |\n",
       "| fund-acr                |\n",
       "| fund-no                 |\n",
       "| fund-sponsor            |\n",
       "| openaccess              |\n",
       "| openaccessFlag          |\n",
       "| entry_number            |\n",
       "| prism:issueIdentifier   |\n",
       "| prism:pageRange         |\n",
       "| freetoread.value.$      |\n",
       "| freetoreadLabel.value.$ |\n",
       "| au_id                   |\n",
       "\n"
      ],
      "text/plain": [
       "   scopus_vars            \n",
       "1  @_fa                   \n",
       "2  prism:url              \n",
       "3  dc:identifier          \n",
       "4  eid                    \n",
       "5  dc:title               \n",
       "6  dc:creator             \n",
       "7  prism:publicationName  \n",
       "8  prism:issn             \n",
       "9  prism:eIssn            \n",
       "10 prism:volume           \n",
       "11 prism:coverDate        \n",
       "12 prism:coverDisplayDate \n",
       "13 prism:doi              \n",
       "14 pii                    \n",
       "15 dc:description         \n",
       "16 citedby-count          \n",
       "17 pubmed-id              \n",
       "18 prism:aggregationType  \n",
       "19 subtype                \n",
       "20 subtypeDescription     \n",
       "21 author-count.@limit    \n",
       "22 author-count.@total    \n",
       "23 author-count.$         \n",
       "24 authkeywords           \n",
       "25 article-number         \n",
       "26 source-id              \n",
       "27 fund-acr               \n",
       "28 fund-no                \n",
       "29 fund-sponsor           \n",
       "30 openaccess             \n",
       "31 openaccessFlag         \n",
       "32 entry_number           \n",
       "33 prism:issueIdentifier  \n",
       "34 prism:pageRange        \n",
       "35 freetoread.value.$     \n",
       "36 freetoreadLabel.value.$\n",
       "37 au_id                  "
      ]
     },
     "metadata": {},
     "output_type": "display_data"
    }
   ],
   "source": [
    "data.frame(scopus_vars=names(papers))"
   ]
  },
  {
   "cell_type": "code",
   "execution_count": null,
   "id": "ffcb2306",
   "metadata": {},
   "outputs": [],
   "source": []
  },
  {
   "cell_type": "code",
   "execution_count": null,
   "id": "9f0935b3",
   "metadata": {},
   "outputs": [],
   "source": []
  },
  {
   "cell_type": "code",
   "execution_count": null,
   "id": "12b7d76f",
   "metadata": {},
   "outputs": [],
   "source": []
  },
  {
   "cell_type": "code",
   "execution_count": 10,
   "id": "f7366b0f",
   "metadata": {},
   "outputs": [],
   "source": [
    "##############################################\n",
    "##\n",
    "## Scopus abstract retrieval by DOI --- collects additional publication level information not included in author_df call above\n",
    "##\n",
    "##############################################"
   ]
  },
  {
   "cell_type": "code",
   "execution_count": 11,
   "id": "f3f9c711",
   "metadata": {},
   "outputs": [],
   "source": [
    "## eid corresponding to paper I collaborated on with Alan Monavari on obesity over time in CPCSSN data\n",
    "test_eid <- \"2-s2.0-85124776043\""
   ]
  },
  {
   "cell_type": "code",
   "execution_count": 12,
   "id": "d792cb2f",
   "metadata": {},
   "outputs": [
    {
     "name": "stderr",
     "output_type": "stream",
     "text": [
      "HTTP specified is:https://api.elsevier.com/content/abstract/eid/2-s2.0-85124776043\n",
      "\n",
      "\n"
     ]
    }
   ],
   "source": [
    "abstract <- abstract_retrieval(id=test_eid, identifier=\"eid\", http_end=NULL)\n",
    "#str(abstract)"
   ]
  },
  {
   "cell_type": "code",
   "execution_count": 13,
   "id": "31fd65ea",
   "metadata": {},
   "outputs": [
    {
     "data": {
      "text/html": [
       "<style>\n",
       ".list-inline {list-style: none; margin:0; padding: 0}\n",
       ".list-inline>li {display: inline-block}\n",
       ".list-inline>li:not(:last-child)::after {content: \"\\00b7\"; padding: 0 .5ex}\n",
       "</style>\n",
       "<ol class=list-inline><li>'get_statement'</li><li>'content'</li></ol>\n"
      ],
      "text/latex": [
       "\\begin{enumerate*}\n",
       "\\item 'get\\_statement'\n",
       "\\item 'content'\n",
       "\\end{enumerate*}\n"
      ],
      "text/markdown": [
       "1. 'get_statement'\n",
       "2. 'content'\n",
       "\n",
       "\n"
      ],
      "text/plain": [
       "[1] \"get_statement\" \"content\"      "
      ]
     },
     "metadata": {},
     "output_type": "display_data"
    }
   ],
   "source": [
    "names(abstract)"
   ]
  },
  {
   "cell_type": "code",
   "execution_count": 14,
   "id": "4b306de8",
   "metadata": {},
   "outputs": [
    {
     "data": {
      "text/html": [
       "'abstracts-retrieval-response'"
      ],
      "text/latex": [
       "'abstracts-retrieval-response'"
      ],
      "text/markdown": [
       "'abstracts-retrieval-response'"
      ],
      "text/plain": [
       "[1] \"abstracts-retrieval-response\""
      ]
     },
     "metadata": {},
     "output_type": "display_data"
    }
   ],
   "source": [
    "names(abstract$content)"
   ]
  },
  {
   "cell_type": "code",
   "execution_count": 15,
   "id": "b7aa670d",
   "metadata": {},
   "outputs": [
    {
     "data": {
      "text/html": [
       "<style>\n",
       ".list-inline {list-style: none; margin:0; padding: 0}\n",
       ".list-inline>li {display: inline-block}\n",
       ".list-inline>li:not(:last-child)::after {content: \"\\00b7\"; padding: 0 .5ex}\n",
       "</style>\n",
       "<ol class=list-inline><li>'item'</li><li>'affiliation'</li><li>'coredata'</li><li>'idxterms'</li><li>'language'</li><li>'authkeywords'</li><li>'subject-areas'</li><li>'authors'</li></ol>\n"
      ],
      "text/latex": [
       "\\begin{enumerate*}\n",
       "\\item 'item'\n",
       "\\item 'affiliation'\n",
       "\\item 'coredata'\n",
       "\\item 'idxterms'\n",
       "\\item 'language'\n",
       "\\item 'authkeywords'\n",
       "\\item 'subject-areas'\n",
       "\\item 'authors'\n",
       "\\end{enumerate*}\n"
      ],
      "text/markdown": [
       "1. 'item'\n",
       "2. 'affiliation'\n",
       "3. 'coredata'\n",
       "4. 'idxterms'\n",
       "5. 'language'\n",
       "6. 'authkeywords'\n",
       "7. 'subject-areas'\n",
       "8. 'authors'\n",
       "\n",
       "\n"
      ],
      "text/plain": [
       "[1] \"item\"          \"affiliation\"   \"coredata\"      \"idxterms\"     \n",
       "[5] \"language\"      \"authkeywords\"  \"subject-areas\" \"authors\"      "
      ]
     },
     "metadata": {},
     "output_type": "display_data"
    }
   ],
   "source": [
    "names(abstract[[\"content\"]][[\"abstracts-retrieval-response\"]])"
   ]
  },
  {
   "cell_type": "code",
   "execution_count": 16,
   "id": "7092d5de",
   "metadata": {},
   "outputs": [
    {
     "name": "stdout",
     "output_type": "stream",
     "text": [
      "List of 6\n",
      " $ :List of 11\n",
      "  ..$ ce:given-name  : chr \"Hamidreza\"\n",
      "  ..$ preferred-name :List of 4\n",
      "  .. ..$ ce:given-name  : chr \"Hamidreza\"\n",
      "  .. ..$ ce:initials    : chr \"H.\"\n",
      "  .. ..$ ce:surname     : chr \"Goodarzynejad\"\n",
      "  .. ..$ ce:indexed-name: chr \"Goodarzynejad H.\"\n",
      "  ..$ @seq           : chr \"1\"\n",
      "  ..$ ce:initials    : chr \"H.\"\n",
      "  ..$ @_fa           : chr \"true\"\n",
      "  ..$ affiliation    :List of 2\n",
      "  .. ..$ @id  : chr \"60122754\"\n",
      "  .. ..$ @href: chr \"https://api.elsevier.com/content/affiliation/affiliation_id/60122754\"\n",
      "  ..$ ce:degrees     : chr \"MD PhD\"\n",
      "  ..$ ce:surname     : chr \"Goodarzynejad\"\n",
      "  ..$ @auid          : chr \"13609367900\"\n",
      "  ..$ author-url     : chr \"https://api.elsevier.com/content/author/author_id/13609367900\"\n",
      "  ..$ ce:indexed-name: chr \"Goodarzynejad H.\"\n",
      " $ :List of 11\n",
      "  ..$ ce:given-name  : chr \"Christopher\"\n",
      "  ..$ preferred-name :List of 4\n",
      "  .. ..$ ce:given-name  : chr \"Christopher\"\n",
      "  .. ..$ ce:initials    : chr \"C.\"\n",
      "  .. ..$ ce:surname     : chr \"Meaney\"\n",
      "  .. ..$ ce:indexed-name: chr \"Meaney C.\"\n",
      "  ..$ @seq           : chr \"2\"\n",
      "  ..$ ce:initials    : chr \"C.\"\n",
      "  ..$ @_fa           : chr \"true\"\n",
      "  ..$ affiliation    :List of 2\n",
      "  .. ..$ @id  : chr \"60021600\"\n",
      "  .. ..$ @href: chr \"https://api.elsevier.com/content/affiliation/affiliation_id/60021600\"\n",
      "  ..$ ce:degrees     : chr \"MSc\"\n",
      "  ..$ ce:surname     : chr \"Meaney\"\n",
      "  ..$ @auid          : chr \"35765360800\"\n",
      "  ..$ author-url     : chr \"https://api.elsevier.com/content/author/author_id/35765360800\"\n",
      "  ..$ ce:indexed-name: chr \"Meaney C.\"\n",
      " $ :List of 11\n",
      "  ..$ ce:given-name  : chr \"Paula\"\n",
      "  ..$ preferred-name :List of 4\n",
      "  .. ..$ ce:given-name  : chr \"Paula\"\n",
      "  .. ..$ ce:initials    : chr \"P.\"\n",
      "  .. ..$ ce:surname     : chr \"Brauer\"\n",
      "  .. ..$ ce:indexed-name: chr \"Brauer P.\"\n",
      "  ..$ @seq           : chr \"3\"\n",
      "  ..$ ce:initials    : chr \"P.\"\n",
      "  ..$ @_fa           : chr \"true\"\n",
      "  ..$ affiliation    :List of 2\n",
      "  .. ..$ @id  : chr \"60015881\"\n",
      "  .. ..$ @href: chr \"https://api.elsevier.com/content/affiliation/affiliation_id/60015881\"\n",
      "  ..$ ce:degrees     : chr \"PhD RD FDC\"\n",
      "  ..$ ce:surname     : chr \"Brauer\"\n",
      "  ..$ @auid          : chr \"7004400953\"\n",
      "  ..$ author-url     : chr \"https://api.elsevier.com/content/author/author_id/7004400953\"\n",
      "  ..$ ce:indexed-name: chr \"Brauer P.\"\n",
      " $ :List of 11\n",
      "  ..$ ce:given-name  : chr \"Michelle\"\n",
      "  ..$ preferred-name :List of 4\n",
      "  .. ..$ ce:given-name  : chr \"Michelle\"\n",
      "  .. ..$ ce:initials    : chr \"M.\"\n",
      "  .. ..$ ce:surname     : chr \"Greiver\"\n",
      "  .. ..$ ce:indexed-name: chr \"Greiver M.\"\n",
      "  ..$ @seq           : chr \"4\"\n",
      "  ..$ ce:initials    : chr \"M.\"\n",
      "  ..$ @_fa           : chr \"true\"\n",
      "  ..$ affiliation    :List of 2\n",
      "  .. ..$ @id  : chr \"60021600\"\n",
      "  .. ..$ @href: chr \"https://api.elsevier.com/content/affiliation/affiliation_id/60021600\"\n",
      "  ..$ ce:degrees     : chr \"MSc MD CCFP FCFP\"\n",
      "  ..$ ce:surname     : chr \"Greiver\"\n",
      "  ..$ @auid          : chr \"7003725829\"\n",
      "  ..$ author-url     : chr \"https://api.elsevier.com/content/author/author_id/7003725829\"\n",
      "  ..$ ce:indexed-name: chr \"Greiver M.\"\n",
      " $ :List of 11\n",
      "  ..$ ce:given-name  : chr \"Rahim\"\n",
      "  ..$ preferred-name :List of 4\n",
      "  .. ..$ ce:given-name  : chr \"Rahim\"\n",
      "  .. ..$ ce:initials    : chr \"R.\"\n",
      "  .. ..$ ce:surname     : chr \"Moineddin\"\n",
      "  .. ..$ ce:indexed-name: chr \"Moineddin R.\"\n",
      "  ..$ @seq           : chr \"5\"\n",
      "  ..$ ce:initials    : chr \"R.\"\n",
      "  ..$ @_fa           : chr \"true\"\n",
      "  ..$ affiliation    :List of 2\n",
      "  .. ..$ @id  : chr \"60021600\"\n",
      "  .. ..$ @href: chr \"https://api.elsevier.com/content/affiliation/affiliation_id/60021600\"\n",
      "  ..$ ce:degrees     : chr \"PhD\"\n",
      "  ..$ ce:surname     : chr \"Moineddin\"\n",
      "  ..$ @auid          : chr \"6603577135\"\n",
      "  ..$ author-url     : chr \"https://api.elsevier.com/content/author/author_id/6603577135\"\n",
      "  ..$ ce:indexed-name: chr \"Moineddin R.\"\n",
      " $ :List of 11\n",
      "  ..$ ce:given-name  : chr \"Alan A.\"\n",
      "  ..$ preferred-name :List of 4\n",
      "  .. ..$ ce:given-name  : chr \"Alan A.\"\n",
      "  .. ..$ ce:initials    : chr \"A.A.\"\n",
      "  .. ..$ ce:surname     : chr \"Monavvari\"\n",
      "  .. ..$ ce:indexed-name: chr \"Monavvari A.A.\"\n",
      "  ..$ @seq           : chr \"6\"\n",
      "  ..$ ce:initials    : chr \"A.A.\"\n",
      "  ..$ @_fa           : chr \"true\"\n",
      "  ..$ affiliation    :List of 2\n",
      "  .. ..$ @id  : chr \"60009031\"\n",
      "  .. ..$ @href: chr \"https://api.elsevier.com/content/affiliation/affiliation_id/60009031\"\n",
      "  ..$ ce:degrees     : chr \"MD CCFP(PC) FCFP CHE CPHQ\"\n",
      "  ..$ ce:surname     : chr \"Monavvari\"\n",
      "  ..$ @auid          : chr \"22956135600\"\n",
      "  ..$ author-url     : chr \"https://api.elsevier.com/content/author/author_id/22956135600\"\n",
      "  ..$ ce:indexed-name: chr \"Monavvari A.A.\"\n"
     ]
    }
   ],
   "source": [
    "## Author Info\n",
    "str(abstract[[\"content\"]][[\"abstracts-retrieval-response\"]][[\"authors\"]][[\"author\"]])"
   ]
  },
  {
   "cell_type": "code",
   "execution_count": 17,
   "id": "a35758f0",
   "metadata": {},
   "outputs": [
    {
     "name": "stdout",
     "output_type": "stream",
     "text": [
      "List of 4\n",
      " $ :List of 5\n",
      "  ..$ affiliation-city   : chr \"Tehran\"\n",
      "  ..$ @id                : chr \"60122754\"\n",
      "  ..$ affilname          : chr \"Tehran Heart Center\"\n",
      "  ..$ @href              : chr \"https://api.elsevier.com/content/affiliation/affiliation_id/60122754\"\n",
      "  ..$ affiliation-country: chr \"Iran\"\n",
      " $ :List of 5\n",
      "  ..$ affiliation-city   : chr \"Toronto\"\n",
      "  ..$ @id                : chr \"60021600\"\n",
      "  ..$ affilname          : chr \"University of Toronto Faculty of Medicine\"\n",
      "  ..$ @href              : chr \"https://api.elsevier.com/content/affiliation/affiliation_id/60021600\"\n",
      "  ..$ affiliation-country: chr \"Canada\"\n",
      " $ :List of 5\n",
      "  ..$ affiliation-city   : chr \"Guelph\"\n",
      "  ..$ @id                : chr \"60015881\"\n",
      "  ..$ affilname          : chr \"University of Guelph\"\n",
      "  ..$ @href              : chr \"https://api.elsevier.com/content/affiliation/affiliation_id/60015881\"\n",
      "  ..$ affiliation-country: chr \"Canada\"\n",
      " $ :List of 5\n",
      "  ..$ affiliation-city   : chr \"Markham\"\n",
      "  ..$ @id                : chr \"60009031\"\n",
      "  ..$ affilname          : chr \"Markham Stouffville Hospital\"\n",
      "  ..$ @href              : chr \"https://api.elsevier.com/content/affiliation/affiliation_id/60009031\"\n",
      "  ..$ affiliation-country: chr \"Canada\"\n"
     ]
    }
   ],
   "source": [
    "## Affiliation Info\n",
    "str(abstract[[\"content\"]][[\"abstracts-retrieval-response\"]][[\"affiliation\"]])"
   ]
  },
  {
   "cell_type": "code",
   "execution_count": null,
   "id": "a8c65b92",
   "metadata": {},
   "outputs": [],
   "source": []
  },
  {
   "cell_type": "code",
   "execution_count": 18,
   "id": "99e5aef6",
   "metadata": {},
   "outputs": [],
   "source": [
    "#######################################################################\n",
    "##\n",
    "## Note: There exist various APIs you can use to extract bibliometric information on peer-reviewed academic publications\n",
    "##\n",
    "## 1) rscopus: https://cran.r-project.org/web/packages/rscopus/index.html\n",
    "## 2) easyPubmed: https://cran.r-project.org/web/packages/easyPubMed/index.html\n",
    "## 3) wosr: https://cran.r-project.org/web/packages/wosr/index.html\n",
    "##\n",
    "#######################################################################"
   ]
  },
  {
   "cell_type": "code",
   "execution_count": null,
   "id": "8b9b5113",
   "metadata": {},
   "outputs": [],
   "source": []
  },
  {
   "cell_type": "code",
   "execution_count": null,
   "id": "708e879f",
   "metadata": {},
   "outputs": [],
   "source": []
  },
  {
   "cell_type": "code",
   "execution_count": 19,
   "id": "6656286d",
   "metadata": {},
   "outputs": [],
   "source": [
    "###############################################\n",
    "##\n",
    "## Leverage the document level indicator information (\"doi\",\"eid\",etc.) to access Almetrics.com API\n",
    "##\n",
    "###############################################"
   ]
  },
  {
   "cell_type": "code",
   "execution_count": 20,
   "id": "7c17e83b",
   "metadata": {},
   "outputs": [
    {
     "data": {
      "text/html": [
       "<table class=\"dataframe\">\n",
       "<caption>A data.frame: 3 × 2</caption>\n",
       "<thead>\n",
       "\t<tr><th></th><th scope=col>prism:doi</th><th scope=col>dc:title</th></tr>\n",
       "\t<tr><th></th><th scope=col>&lt;chr&gt;</th><th scope=col>&lt;chr&gt;</th></tr>\n",
       "</thead>\n",
       "<tbody>\n",
       "\t<tr><th scope=row>1</th><td>10.1016/j.drugalcdep.2022.109312</td><td>Evaluating the effectiveness of bupropion and varenicline for smoking cessation using an internet-based delivery system: A pragmatic randomized controlled trial (MATCH study)</td></tr>\n",
       "\t<tr><th scope=row>2</th><td>10.1016/j.psc.2021.11.006       </td><td>Coronavirus Disease 2019 and the Impact on Substance Use Disorder Treatments                                                                                                  </td></tr>\n",
       "\t<tr><th scope=row>3</th><td>10.1093/ntr/ntab235             </td><td>A Measure of Illness Awareness in Individuals With Nicotine Dependence-Nicotine Use Awareness and Insight Scale                                                               </td></tr>\n",
       "</tbody>\n",
       "</table>\n"
      ],
      "text/latex": [
       "A data.frame: 3 × 2\n",
       "\\begin{tabular}{r|ll}\n",
       "  & prism:doi & dc:title\\\\\n",
       "  & <chr> & <chr>\\\\\n",
       "\\hline\n",
       "\t1 & 10.1016/j.drugalcdep.2022.109312 & Evaluating the effectiveness of bupropion and varenicline for smoking cessation using an internet-based delivery system: A pragmatic randomized controlled trial (MATCH study)\\\\\n",
       "\t2 & 10.1016/j.psc.2021.11.006        & Coronavirus Disease 2019 and the Impact on Substance Use Disorder Treatments                                                                                                  \\\\\n",
       "\t3 & 10.1093/ntr/ntab235              & A Measure of Illness Awareness in Individuals With Nicotine Dependence-Nicotine Use Awareness and Insight Scale                                                               \\\\\n",
       "\\end{tabular}\n"
      ],
      "text/markdown": [
       "\n",
       "A data.frame: 3 × 2\n",
       "\n",
       "| <!--/--> | prism:doi &lt;chr&gt; | dc:title &lt;chr&gt; |\n",
       "|---|---|---|\n",
       "| 1 | 10.1016/j.drugalcdep.2022.109312 | Evaluating the effectiveness of bupropion and varenicline for smoking cessation using an internet-based delivery system: A pragmatic randomized controlled trial (MATCH study) |\n",
       "| 2 | 10.1016/j.psc.2021.11.006        | Coronavirus Disease 2019 and the Impact on Substance Use Disorder Treatments                                                                                                   |\n",
       "| 3 | 10.1093/ntr/ntab235              | A Measure of Illness Awareness in Individuals With Nicotine Dependence-Nicotine Use Awareness and Insight Scale                                                                |\n",
       "\n"
      ],
      "text/plain": [
       "  prism:doi                       \n",
       "1 10.1016/j.drugalcdep.2022.109312\n",
       "2 10.1016/j.psc.2021.11.006       \n",
       "3 10.1093/ntr/ntab235             \n",
       "  dc:title                                                                                                                                                                      \n",
       "1 Evaluating the effectiveness of bupropion and varenicline for smoking cessation using an internet-based delivery system: A pragmatic randomized controlled trial (MATCH study)\n",
       "2 Coronavirus Disease 2019 and the Impact on Substance Use Disorder Treatments                                                                                                  \n",
       "3 A Measure of Illness Awareness in Individuals With Nicotine Dependence-Nicotine Use Awareness and Insight Scale                                                               "
      ]
     },
     "metadata": {},
     "output_type": "display_data"
    }
   ],
   "source": [
    "## List of DOIs and publication titles\n",
    "head(papers[,c(\"prism:doi\",\"dc:title\")], n=3)"
   ]
  },
  {
   "cell_type": "code",
   "execution_count": 21,
   "id": "357349c5",
   "metadata": {},
   "outputs": [
    {
     "data": {
      "text/plain": [
       "Altmetrics on: \"Routine childhood vaccination rates in an academic family health team before and during the first wave of the COVID-19 pandemic: a pre–post analysis of a retrospective chart review\" with altmetric_id: 121551310 published in CMAJ Open.\n",
       "                        stats\n",
       "cited_by_posts_count       28\n",
       "cited_by_tweeters_count    22\n",
       "cited_by_accounts_count    22"
      ]
     },
     "metadata": {},
     "output_type": "display_data"
    }
   ],
   "source": [
    "## An article I collaborated on with Milena Forte on child vaccinations during COVID-19\n",
    "child_vax_covid <- altmetrics(doi=\"10.9778/cmajo.20210084\")\n",
    "child_vax_covid"
   ]
  },
  {
   "cell_type": "code",
   "execution_count": 22,
   "id": "30bbf94c",
   "metadata": {},
   "outputs": [
    {
     "data": {
      "text/plain": [
       "Altmetrics on: \"Doxylamine-pyridoxine for nausea and vomiting of pregnancy randomized placebo controlled trial: Prespecified analyses and reanalysis\" with altmetric_id: 31816358 published in PLOS ONE.\n",
       "                         stats\n",
       "cited_by_posts_count       101\n",
       "cited_by_msm_count          56\n",
       "cited_by_feeds_count         4\n",
       "cited_by_tweeters_count     33\n",
       "cited_by_fbwalls_count       2\n",
       "cited_by_wikipedia_count     1\n",
       "cited_by_policies_count      1\n",
       "cited_by_accounts_count     97"
      ]
     },
     "metadata": {},
     "output_type": "display_data"
    }
   ],
   "source": [
    "## An article I collaborated on with Nav Persaud investigating effectiveness of diclectin for treatment nausea during pregnancy\n",
    "diclectin <- altmetrics(doi=\"10.1371/journal.pone.0189978\")\n",
    "diclectin"
   ]
  },
  {
   "cell_type": "code",
   "execution_count": null,
   "id": "8a56a707",
   "metadata": {},
   "outputs": [],
   "source": []
  },
  {
   "cell_type": "code",
   "execution_count": 23,
   "id": "e554065c",
   "metadata": {},
   "outputs": [],
   "source": [
    "######################################################################\n",
    "##\n",
    "## Note: There exist various APIs one can engage with (via R) in order to extract ALtmetric/Webometric data\n",
    "##\n",
    "## 1) rAltmetric: https://cran.r-project.org/web/packages/rAltmetric/README.html\n",
    "## 2) dimensionsR: https://github.com/massimoaria/dimensionsR\n",
    "## 3) Plum Analytics (no R package): https://plumanalytics.com/announcing-plumx-widgets-and-our-open-data-api/\n",
    "##\n",
    "######################################################################"
   ]
  },
  {
   "cell_type": "code",
   "execution_count": null,
   "id": "2bc0013d",
   "metadata": {},
   "outputs": [],
   "source": []
  },
  {
   "cell_type": "code",
   "execution_count": null,
   "id": "48cc606e",
   "metadata": {},
   "outputs": [],
   "source": []
  },
  {
   "cell_type": "code",
   "execution_count": null,
   "id": "668417c2",
   "metadata": {},
   "outputs": [],
   "source": []
  },
  {
   "cell_type": "code",
   "execution_count": 24,
   "id": "cbfda7d6",
   "metadata": {},
   "outputs": [],
   "source": [
    "#######################################################\n",
    "##\n",
    "## Journal data from SciImago: \n",
    "## https://www.scimagojr.com/journalrank.php\n",
    "##\n",
    "#######################################################"
   ]
  },
  {
   "cell_type": "code",
   "execution_count": 25,
   "id": "4c11476c",
   "metadata": {},
   "outputs": [],
   "source": [
    "sjr <- read.csv(url(\"https://www.scimagojr.com/journalrank.php?out=xls\"), sep=\";\", header=TRUE)\n",
    "#str(sjr)"
   ]
  },
  {
   "cell_type": "code",
   "execution_count": 26,
   "id": "07cdef5b",
   "metadata": {},
   "outputs": [
    {
     "data": {
      "text/html": [
       "<style>\n",
       ".list-inline {list-style: none; margin:0; padding: 0}\n",
       ".list-inline>li {display: inline-block}\n",
       ".list-inline>li:not(:last-child)::after {content: \"\\00b7\"; padding: 0 .5ex}\n",
       "</style>\n",
       "<ol class=list-inline><li>32952</li><li>20</li></ol>\n"
      ],
      "text/latex": [
       "\\begin{enumerate*}\n",
       "\\item 32952\n",
       "\\item 20\n",
       "\\end{enumerate*}\n"
      ],
      "text/markdown": [
       "1. 32952\n",
       "2. 20\n",
       "\n",
       "\n"
      ],
      "text/plain": [
       "[1] 32952    20"
      ]
     },
     "metadata": {},
     "output_type": "display_data"
    }
   ],
   "source": [
    "dim(sjr)"
   ]
  },
  {
   "cell_type": "code",
   "execution_count": 27,
   "id": "e43dd7ea",
   "metadata": {},
   "outputs": [
    {
     "data": {
      "text/html": [
       "<table class=\"dataframe\">\n",
       "<caption>A data.frame: 20 × 1</caption>\n",
       "<thead>\n",
       "\t<tr><th scope=col>sjr_vars</th></tr>\n",
       "\t<tr><th scope=col>&lt;chr&gt;</th></tr>\n",
       "</thead>\n",
       "<tbody>\n",
       "\t<tr><td>Rank                  </td></tr>\n",
       "\t<tr><td>Sourceid              </td></tr>\n",
       "\t<tr><td>Title                 </td></tr>\n",
       "\t<tr><td>Type                  </td></tr>\n",
       "\t<tr><td>Issn                  </td></tr>\n",
       "\t<tr><td>SJR                   </td></tr>\n",
       "\t<tr><td>SJR.Best.Quartile     </td></tr>\n",
       "\t<tr><td>H.index               </td></tr>\n",
       "\t<tr><td>Total.Docs...2020.    </td></tr>\n",
       "\t<tr><td>Total.Docs...3years.  </td></tr>\n",
       "\t<tr><td>Total.Refs.           </td></tr>\n",
       "\t<tr><td>Total.Cites..3years.  </td></tr>\n",
       "\t<tr><td>Citable.Docs...3years.</td></tr>\n",
       "\t<tr><td>Cites...Doc...2years. </td></tr>\n",
       "\t<tr><td>Ref....Doc.           </td></tr>\n",
       "\t<tr><td>Country               </td></tr>\n",
       "\t<tr><td>Region                </td></tr>\n",
       "\t<tr><td>Publisher             </td></tr>\n",
       "\t<tr><td>Coverage              </td></tr>\n",
       "\t<tr><td>Categories            </td></tr>\n",
       "</tbody>\n",
       "</table>\n"
      ],
      "text/latex": [
       "A data.frame: 20 × 1\n",
       "\\begin{tabular}{l}\n",
       " sjr\\_vars\\\\\n",
       " <chr>\\\\\n",
       "\\hline\n",
       "\t Rank                  \\\\\n",
       "\t Sourceid              \\\\\n",
       "\t Title                 \\\\\n",
       "\t Type                  \\\\\n",
       "\t Issn                  \\\\\n",
       "\t SJR                   \\\\\n",
       "\t SJR.Best.Quartile     \\\\\n",
       "\t H.index               \\\\\n",
       "\t Total.Docs...2020.    \\\\\n",
       "\t Total.Docs...3years.  \\\\\n",
       "\t Total.Refs.           \\\\\n",
       "\t Total.Cites..3years.  \\\\\n",
       "\t Citable.Docs...3years.\\\\\n",
       "\t Cites...Doc...2years. \\\\\n",
       "\t Ref....Doc.           \\\\\n",
       "\t Country               \\\\\n",
       "\t Region                \\\\\n",
       "\t Publisher             \\\\\n",
       "\t Coverage              \\\\\n",
       "\t Categories            \\\\\n",
       "\\end{tabular}\n"
      ],
      "text/markdown": [
       "\n",
       "A data.frame: 20 × 1\n",
       "\n",
       "| sjr_vars &lt;chr&gt; |\n",
       "|---|\n",
       "| Rank                   |\n",
       "| Sourceid               |\n",
       "| Title                  |\n",
       "| Type                   |\n",
       "| Issn                   |\n",
       "| SJR                    |\n",
       "| SJR.Best.Quartile      |\n",
       "| H.index                |\n",
       "| Total.Docs...2020.     |\n",
       "| Total.Docs...3years.   |\n",
       "| Total.Refs.            |\n",
       "| Total.Cites..3years.   |\n",
       "| Citable.Docs...3years. |\n",
       "| Cites...Doc...2years.  |\n",
       "| Ref....Doc.            |\n",
       "| Country                |\n",
       "| Region                 |\n",
       "| Publisher              |\n",
       "| Coverage               |\n",
       "| Categories             |\n",
       "\n"
      ],
      "text/plain": [
       "   sjr_vars              \n",
       "1  Rank                  \n",
       "2  Sourceid              \n",
       "3  Title                 \n",
       "4  Type                  \n",
       "5  Issn                  \n",
       "6  SJR                   \n",
       "7  SJR.Best.Quartile     \n",
       "8  H.index               \n",
       "9  Total.Docs...2020.    \n",
       "10 Total.Docs...3years.  \n",
       "11 Total.Refs.           \n",
       "12 Total.Cites..3years.  \n",
       "13 Citable.Docs...3years.\n",
       "14 Cites...Doc...2years. \n",
       "15 Ref....Doc.           \n",
       "16 Country               \n",
       "17 Region                \n",
       "18 Publisher             \n",
       "19 Coverage              \n",
       "20 Categories            "
      ]
     },
     "metadata": {},
     "output_type": "display_data"
    }
   ],
   "source": [
    "data.frame(sjr_vars=names(sjr))"
   ]
  },
  {
   "cell_type": "code",
   "execution_count": 28,
   "id": "e91e9852",
   "metadata": {},
   "outputs": [
    {
     "data": {
      "text/html": [
       "<table class=\"dataframe\">\n",
       "<caption>A data.frame: 1 × 20</caption>\n",
       "<thead>\n",
       "\t<tr><th></th><th scope=col>Rank</th><th scope=col>Sourceid</th><th scope=col>Title</th><th scope=col>Type</th><th scope=col>Issn</th><th scope=col>SJR</th><th scope=col>SJR.Best.Quartile</th><th scope=col>H.index</th><th scope=col>Total.Docs...2020.</th><th scope=col>Total.Docs...3years.</th><th scope=col>Total.Refs.</th><th scope=col>Total.Cites..3years.</th><th scope=col>Citable.Docs...3years.</th><th scope=col>Cites...Doc...2years.</th><th scope=col>Ref....Doc.</th><th scope=col>Country</th><th scope=col>Region</th><th scope=col>Publisher</th><th scope=col>Coverage</th><th scope=col>Categories</th></tr>\n",
       "\t<tr><th></th><th scope=col>&lt;int&gt;</th><th scope=col>&lt;dbl&gt;</th><th scope=col>&lt;chr&gt;</th><th scope=col>&lt;chr&gt;</th><th scope=col>&lt;chr&gt;</th><th scope=col>&lt;chr&gt;</th><th scope=col>&lt;chr&gt;</th><th scope=col>&lt;int&gt;</th><th scope=col>&lt;int&gt;</th><th scope=col>&lt;int&gt;</th><th scope=col>&lt;int&gt;</th><th scope=col>&lt;int&gt;</th><th scope=col>&lt;int&gt;</th><th scope=col>&lt;chr&gt;</th><th scope=col>&lt;chr&gt;</th><th scope=col>&lt;chr&gt;</th><th scope=col>&lt;chr&gt;</th><th scope=col>&lt;chr&gt;</th><th scope=col>&lt;chr&gt;</th><th scope=col>&lt;chr&gt;</th></tr>\n",
       "</thead>\n",
       "<tbody>\n",
       "\t<tr><th scope=row>17</th><td>17</td><td>15819</td><td>Nature Medicine</td><td>journal</td><td>1546170X, 10788956</td><td>19,536</td><td>Q1</td><td>547</td><td>452</td><td>953</td><td>10601</td><td>22548</td><td>664</td><td>23,52</td><td>23,45</td><td>United Kingdom</td><td>Western Europe</td><td>Nature Publishing Group</td><td>1995-2020</td><td>Biochemistry, Genetics and Molecular Biology (miscellaneous) (Q1); Medicine (miscellaneous) (Q1)</td></tr>\n",
       "</tbody>\n",
       "</table>\n"
      ],
      "text/latex": [
       "A data.frame: 1 × 20\n",
       "\\begin{tabular}{r|llllllllllllllllllll}\n",
       "  & Rank & Sourceid & Title & Type & Issn & SJR & SJR.Best.Quartile & H.index & Total.Docs...2020. & Total.Docs...3years. & Total.Refs. & Total.Cites..3years. & Citable.Docs...3years. & Cites...Doc...2years. & Ref....Doc. & Country & Region & Publisher & Coverage & Categories\\\\\n",
       "  & <int> & <dbl> & <chr> & <chr> & <chr> & <chr> & <chr> & <int> & <int> & <int> & <int> & <int> & <int> & <chr> & <chr> & <chr> & <chr> & <chr> & <chr> & <chr>\\\\\n",
       "\\hline\n",
       "\t17 & 17 & 15819 & Nature Medicine & journal & 1546170X, 10788956 & 19,536 & Q1 & 547 & 452 & 953 & 10601 & 22548 & 664 & 23,52 & 23,45 & United Kingdom & Western Europe & Nature Publishing Group & 1995-2020 & Biochemistry, Genetics and Molecular Biology (miscellaneous) (Q1); Medicine (miscellaneous) (Q1)\\\\\n",
       "\\end{tabular}\n"
      ],
      "text/markdown": [
       "\n",
       "A data.frame: 1 × 20\n",
       "\n",
       "| <!--/--> | Rank &lt;int&gt; | Sourceid &lt;dbl&gt; | Title &lt;chr&gt; | Type &lt;chr&gt; | Issn &lt;chr&gt; | SJR &lt;chr&gt; | SJR.Best.Quartile &lt;chr&gt; | H.index &lt;int&gt; | Total.Docs...2020. &lt;int&gt; | Total.Docs...3years. &lt;int&gt; | Total.Refs. &lt;int&gt; | Total.Cites..3years. &lt;int&gt; | Citable.Docs...3years. &lt;int&gt; | Cites...Doc...2years. &lt;chr&gt; | Ref....Doc. &lt;chr&gt; | Country &lt;chr&gt; | Region &lt;chr&gt; | Publisher &lt;chr&gt; | Coverage &lt;chr&gt; | Categories &lt;chr&gt; |\n",
       "|---|---|---|---|---|---|---|---|---|---|---|---|---|---|---|---|---|---|---|---|---|\n",
       "| 17 | 17 | 15819 | Nature Medicine | journal | 1546170X, 10788956 | 19,536 | Q1 | 547 | 452 | 953 | 10601 | 22548 | 664 | 23,52 | 23,45 | United Kingdom | Western Europe | Nature Publishing Group | 1995-2020 | Biochemistry, Genetics and Molecular Biology (miscellaneous) (Q1); Medicine (miscellaneous) (Q1) |\n",
       "\n"
      ],
      "text/plain": [
       "   Rank Sourceid Title           Type    Issn               SJR   \n",
       "17 17   15819    Nature Medicine journal 1546170X, 10788956 19,536\n",
       "   SJR.Best.Quartile H.index Total.Docs...2020. Total.Docs...3years.\n",
       "17 Q1                547     452                953                 \n",
       "   Total.Refs. Total.Cites..3years. Citable.Docs...3years.\n",
       "17 10601       22548                664                   \n",
       "   Cites...Doc...2years. Ref....Doc. Country        Region        \n",
       "17 23,52                 23,45       United Kingdom Western Europe\n",
       "   Publisher               Coverage \n",
       "17 Nature Publishing Group 1995-2020\n",
       "   Categories                                                                                      \n",
       "17 Biochemistry, Genetics and Molecular Biology (miscellaneous) (Q1); Medicine (miscellaneous) (Q1)"
      ]
     },
     "metadata": {},
     "output_type": "display_data"
    }
   ],
   "source": [
    "## Look at some journal titles\n",
    "sjr[sjr$Title==\"Nature Medicine\", ]"
   ]
  },
  {
   "cell_type": "code",
   "execution_count": 29,
   "id": "77e1e698",
   "metadata": {},
   "outputs": [],
   "source": [
    "##################################################################\n",
    "##\n",
    "## It's a bit weird because ISSN is stored as \",\" comma-separated string. \n",
    "## Need to parse these string data, represent SciImago dataframe in long format (expanding on ISSN). \n",
    "## Remove duplicate ISSN. \n",
    "## Then join with rScopus data on ISSN.\n",
    "##\n",
    "## note: I **think** the different ISSN in the \",\" comma-separated list is ISSN vs. e-ISSN, etc.\n",
    "##\n",
    "##################################################################"
   ]
  },
  {
   "cell_type": "code",
   "execution_count": 30,
   "id": "a71c294f",
   "metadata": {},
   "outputs": [],
   "source": [
    "##################################################################\n",
    "##\n",
    "## Note: Could also consider various APIs or data sources for generating journal-level metrics...\n",
    "##\n",
    "## 1) Clarivate (Thompson-Reuters) JCR: https://clarivate.com/webofsciencegroup/solutions/journal-citation-reports/\n",
    "## 2) Eigenfactor: http://www.eigenfactor.org/\n",
    "##\n",
    "##################################################################"
   ]
  },
  {
   "cell_type": "code",
   "execution_count": null,
   "id": "55292963",
   "metadata": {},
   "outputs": [],
   "source": []
  },
  {
   "cell_type": "code",
   "execution_count": null,
   "id": "00c4d5fd",
   "metadata": {},
   "outputs": [],
   "source": []
  },
  {
   "cell_type": "code",
   "execution_count": null,
   "id": "360b5938",
   "metadata": {},
   "outputs": [],
   "source": []
  },
  {
   "cell_type": "code",
   "execution_count": null,
   "id": "cae8fb7f",
   "metadata": {},
   "outputs": [],
   "source": []
  },
  {
   "cell_type": "code",
   "execution_count": 31,
   "id": "1797e840",
   "metadata": {},
   "outputs": [],
   "source": [
    "############################\n",
    "## System information\n",
    "############################"
   ]
  },
  {
   "cell_type": "code",
   "execution_count": 32,
   "id": "ac8bc17a",
   "metadata": {},
   "outputs": [
    {
     "data": {
      "text/plain": [
       "[1] \"2022-03-24 15:26:42 EDT\""
      ]
     },
     "metadata": {},
     "output_type": "display_data"
    }
   ],
   "source": [
    "Sys.time()"
   ]
  },
  {
   "cell_type": "code",
   "execution_count": 33,
   "id": "6ad2c26e",
   "metadata": {},
   "outputs": [
    {
     "data": {
      "text/html": [
       "<table class=\"dataframe\">\n",
       "<caption>A data.frame: 8 × 1</caption>\n",
       "<thead>\n",
       "\t<tr><th></th><th scope=col>Sys.info..</th></tr>\n",
       "\t<tr><th></th><th scope=col>&lt;chr&gt;</th></tr>\n",
       "</thead>\n",
       "<tbody>\n",
       "\t<tr><th scope=row>sysname</th><td>Windows          </td></tr>\n",
       "\t<tr><th scope=row>release</th><td>10 x64           </td></tr>\n",
       "\t<tr><th scope=row>version</th><td>build 19044      </td></tr>\n",
       "\t<tr><th scope=row>nodename</th><td>DESKTOP-F2PP5TP  </td></tr>\n",
       "\t<tr><th scope=row>machine</th><td>x86-64           </td></tr>\n",
       "\t<tr><th scope=row>login</th><td>ChristopherMeaney</td></tr>\n",
       "\t<tr><th scope=row>user</th><td>ChristopherMeaney</td></tr>\n",
       "\t<tr><th scope=row>effective_user</th><td>ChristopherMeaney</td></tr>\n",
       "</tbody>\n",
       "</table>\n"
      ],
      "text/latex": [
       "A data.frame: 8 × 1\n",
       "\\begin{tabular}{r|l}\n",
       "  & Sys.info..\\\\\n",
       "  & <chr>\\\\\n",
       "\\hline\n",
       "\tsysname & Windows          \\\\\n",
       "\trelease & 10 x64           \\\\\n",
       "\tversion & build 19044      \\\\\n",
       "\tnodename & DESKTOP-F2PP5TP  \\\\\n",
       "\tmachine & x86-64           \\\\\n",
       "\tlogin & ChristopherMeaney\\\\\n",
       "\tuser & ChristopherMeaney\\\\\n",
       "\teffective\\_user & ChristopherMeaney\\\\\n",
       "\\end{tabular}\n"
      ],
      "text/markdown": [
       "\n",
       "A data.frame: 8 × 1\n",
       "\n",
       "| <!--/--> | Sys.info.. &lt;chr&gt; |\n",
       "|---|---|\n",
       "| sysname | Windows           |\n",
       "| release | 10 x64            |\n",
       "| version | build 19044       |\n",
       "| nodename | DESKTOP-F2PP5TP   |\n",
       "| machine | x86-64            |\n",
       "| login | ChristopherMeaney |\n",
       "| user | ChristopherMeaney |\n",
       "| effective_user | ChristopherMeaney |\n",
       "\n"
      ],
      "text/plain": [
       "               Sys.info..       \n",
       "sysname        Windows          \n",
       "release        10 x64           \n",
       "version        build 19044      \n",
       "nodename       DESKTOP-F2PP5TP  \n",
       "machine        x86-64           \n",
       "login          ChristopherMeaney\n",
       "user           ChristopherMeaney\n",
       "effective_user ChristopherMeaney"
      ]
     },
     "metadata": {},
     "output_type": "display_data"
    }
   ],
   "source": [
    "data.frame(Sys.info())"
   ]
  },
  {
   "cell_type": "code",
   "execution_count": 34,
   "id": "54808fce",
   "metadata": {},
   "outputs": [
    {
     "data": {
      "text/plain": [
       "               _                           \n",
       "platform       x86_64-w64-mingw32          \n",
       "arch           x86_64                      \n",
       "os             mingw32                     \n",
       "system         x86_64, mingw32             \n",
       "status                                     \n",
       "major          4                           \n",
       "minor          0.2                         \n",
       "year           2020                        \n",
       "month          06                          \n",
       "day            22                          \n",
       "svn rev        78730                       \n",
       "language       R                           \n",
       "version.string R version 4.0.2 (2020-06-22)\n",
       "nickname       Taking Off Again            "
      ]
     },
     "metadata": {},
     "output_type": "display_data"
    }
   ],
   "source": [
    "version"
   ]
  },
  {
   "cell_type": "code",
   "execution_count": null,
   "id": "7649ebb8",
   "metadata": {},
   "outputs": [],
   "source": []
  }
 ],
 "metadata": {
  "kernelspec": {
   "display_name": "R",
   "language": "R",
   "name": "ir"
  },
  "language_info": {
   "codemirror_mode": "r",
   "file_extension": ".r",
   "mimetype": "text/x-r-source",
   "name": "R",
   "pygments_lexer": "r",
   "version": "4.0.2"
  }
 },
 "nbformat": 4,
 "nbformat_minor": 5
}
